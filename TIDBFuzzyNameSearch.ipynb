{
 "cells": [
  {
   "cell_type": "code",
   "execution_count": 10,
   "id": "943bf6e7",
   "metadata": {},
   "outputs": [],
   "source": [
    "def VectorElement(word):\n",
    "    ListAlphabets = ['A','B','C','D','E','F','G','H','I','J','K','L','M','N','O','P','Q','R','S','T','U','V','W','X','Y','Z']\n",
    "    ListVectors=[0,0,0,0,0,0,0,0,0,0,0,0,0,0,0,0,0,0,0,0,0,0,0,0,0,0]\n",
    "    count = 0\n",
    "    while count < 26:\n",
    "        ListVectors[count]= sum(1 for element in word if element.lower()==ListAlphabets[count].lower())\n",
    "        count =count+1\n",
    "    return ListVectors"
   ]
  },
  {
   "cell_type": "code",
   "execution_count": 12,
   "id": "f35a1037",
   "metadata": {},
   "outputs": [
    {
     "name": "stdout",
     "output_type": "stream",
     "text": [
      "Davis Jeff [1, 0, 0, 1, 1, 2, 0, 0, 1, 1, 0, 0, 0, 0, 0, 0, 0, 0, 1, 0, 0, 1, 0, 0, 0, 0]\n"
     ]
    }
   ],
   "source": [
    "from faker import Faker  \n",
    "import time\n",
    "fake = Faker() \n",
    "#fakename =fake.name()\n",
    "fakename='Davis Jeff'\n",
    "print(fakename,VectorElement(fakename))\n"
   ]
  },
  {
   "cell_type": "code",
   "execution_count": 11,
   "id": "2d4d3e5a",
   "metadata": {},
   "outputs": [],
   "source": [
    "from faker import Faker  \n",
    "import time\n",
    "FileRecords =[]\n",
    "fake = Faker() \n",
    "for i in range(100000):\n",
    "        fakename =fake.name()\n",
    "        FileRecords.append(fakename+\",\"+'\"'+str(VectorElement(fakename))+'\"')\n",
    "with open(r'F:\\TechManagement\\Shreya\\TiDBS.csv', 'w') as f:\n",
    "    for i, FileRecord in enumerate(FileRecords):\n",
    "        f.write(FileRecord + '\\n')"
   ]
  },
  {
   "cell_type": "code",
   "execution_count": null,
   "id": "c47a68ac",
   "metadata": {},
   "outputs": [],
   "source": []
  }
 ],
 "metadata": {
  "kernelspec": {
   "display_name": "Python 3 (ipykernel)",
   "language": "python",
   "name": "python3"
  },
  "language_info": {
   "codemirror_mode": {
    "name": "ipython",
    "version": 3
   },
   "file_extension": ".py",
   "mimetype": "text/x-python",
   "name": "python",
   "nbconvert_exporter": "python",
   "pygments_lexer": "ipython3",
   "version": "3.11.5"
  }
 },
 "nbformat": 4,
 "nbformat_minor": 5
}
